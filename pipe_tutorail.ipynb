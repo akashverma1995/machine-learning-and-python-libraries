{
 "cells": [
  {
   "cell_type": "code",
   "execution_count": 15,
   "metadata": {},
   "outputs": [],
   "source": [
    "# Tutorial of pipe"
   ]
  },
  {
   "cell_type": "markdown",
   "metadata": {},
   "source": [
    "__map(fun, iter)__\n",
    "\n",
    "paramters\n",
    "- fun : It is a function to which map passes each element of given iterable.\n",
    "- iter : It is a iterable which is to be mapped.\n",
    "\n",
    "- ~~NOTE : You can pass one or more iterable to the map() function.~~\n",
    "\n",
    "\n",
    "**filter(function, sequence)**\n",
    "\n",
    "Parameters:\n",
    "* function: function that tests if each element of a sequence true or not.\n",
    "* sequence: sequence which needs to be filtered, it can be sets, lists, tuples, or containers of any iterators.\n",
    "* Returns: returns an iterator that is already filtered.\n",
    "\n",
    "***lambda arguments : expression*** \n",
    "* This function can have any number of arguments but only one expression, which is evaluated and returned.\n",
    "* One is free to use lambda functions wherever function objects are required.\n",
    "* You need to keep in your knowledge that lambda functions are syntactically restricted to a single expression.\n",
    "* It has various uses in particular fields of programming besides other types of expressions in functions.\n",
    "\n",
    "\n",
    "\n",
    "https://www.pivotaltracker.com/help/articles/formatting_your_text_with_markdown/"
   ]
  },
  {
   "cell_type": "code",
   "execution_count": 20,
   "metadata": {},
   "outputs": [
    {
     "name": "stdout",
     "output_type": "stream",
     "text": [
      "[4, 8]\n"
     ]
    }
   ],
   "source": [
    "arr=[1,2,3,4,5]\n",
    "print(list(map(lambda x:x*2 , filter(lambda x:x%2==0, arr)))) "
   ]
  },
  {
   "cell_type": "code",
   "execution_count": 21,
   "metadata": {},
   "outputs": [
    {
     "data": {
      "text/plain": [
       "[4, 8]"
      ]
     },
     "execution_count": 21,
     "metadata": {},
     "output_type": "execute_result"
    }
   ],
   "source": [
    "from pipe import where, select\n",
    "arr = [1, 2, 3, 4, 5] \n",
    "list(arr | where(lambda x:x%2==0)| select(lambda x: x*2))"
   ]
  },
  {
   "cell_type": "code",
   "execution_count": 23,
   "metadata": {},
   "outputs": [
    {
     "name": "stdout",
     "output_type": "stream",
     "text": [
      "[2, 4]\n",
      "[2, 4, 6, 8, 10]\n"
     ]
    }
   ],
   "source": [
    "#where\n",
    "print(list(arr | where(lambda x:x%2==0)))\n",
    "#select\n",
    "print(list(arr | select(lambda x:x*2))) "
   ]
  },
  {
   "cell_type": "code",
   "execution_count": 24,
   "metadata": {},
   "outputs": [
    {
     "name": "stdout",
     "output_type": "stream",
     "text": [
      "[1, 2, [3], 4, 5]\n"
     ]
    }
   ],
   "source": [
    "from pipe import chain\n",
    "nested=[[1,2,[3]],[4,5]]\n",
    "print(list(nested | chain))"
   ]
  },
  {
   "cell_type": "code",
   "execution_count": 26,
   "metadata": {},
   "outputs": [
    {
     "name": "stdout",
     "output_type": "stream",
     "text": [
      "[1, 2, 3, 4, 5]\n"
     ]
    }
   ],
   "source": [
    "from pipe import traverse\n",
    "nested = [[1, 2, [3]], [4, 5]]\n",
    "print(list(nested | traverse)) \n"
   ]
  },
  {
   "cell_type": "code",
   "execution_count": 27,
   "metadata": {},
   "outputs": [
    {
     "name": "stdout",
     "output_type": "stream",
     "text": [
      "[2, 5, 10, 5]\n"
     ]
    }
   ],
   "source": [
    "from pipe import select, traverse\n",
    "fruits=[\n",
    "    {\"name\":\"apple\", \"price\":[2,5]},\n",
    "    {\"name\": \"orange\", \"price\": 10},\n",
    "    {\"name\": \"grape\", \"price\": 5} \n",
    "]\n",
    "print(\n",
    "    list(fruits\n",
    "        |select(lambda fruits:fruits[\"price\"])\n",
    "        |traverse\n",
    "        )\n",
    ")"
   ]
  },
  {
   "cell_type": "code",
   "execution_count": 28,
   "metadata": {},
   "outputs": [
    {
     "name": "stdout",
     "output_type": "stream",
     "text": [
      "[{'Even': [2, 4, 6, 8]}, {'Odd': [1, 3, 5, 7, 9]}]\n"
     ]
    }
   ],
   "source": [
    "from pipe import groupby,select\n",
    "print(\n",
    "    list(\n",
    "        (1,2,3,4,5,6,7,8,9)\n",
    "        | groupby(lambda x:\"Even\" if x%2==0 else \"Odd\")\n",
    "        | select( lambda x: {x[0]:list(x[1])})\n",
    "    )\n",
    ")"
   ]
  },
  {
   "cell_type": "code",
   "execution_count": 29,
   "metadata": {},
   "outputs": [
    {
     "name": "stdout",
     "output_type": "stream",
     "text": [
      "[{'Even': [4, 6, 8]}, {'Odd': [3, 5, 7, 9]}]\n"
     ]
    }
   ],
   "source": [
    "from pipe import groupby, select\n",
    "print(\n",
    "    list(\n",
    "        (1, 2, 3, 4, 5, 6, 7, 8, 9)\n",
    "        | groupby(lambda x: \"Even\" if x % 2 == 0 else \"Odd\")\n",
    "        | select(lambda x: {x[0]: list(x[1] | where(lambda x:x>2))})\n",
    "    )\n",
    ")\n"
   ]
  },
  {
   "cell_type": "code",
   "execution_count": 31,
   "metadata": {},
   "outputs": [
    {
     "name": "stdout",
     "output_type": "stream",
     "text": [
      "[1, 2, 3, 4, 5, 6]\n"
     ]
    }
   ],
   "source": [
    "from pipe import dedup\n",
    "arr=[1,2,2,3,4,4,4,2,5,5,6,3,6]\n",
    "print(list(arr |dedup)) "
   ]
  },
  {
   "cell_type": "code",
   "execution_count": null,
   "metadata": {},
   "outputs": [],
   "source": []
  }
 ],
 "metadata": {
  "interpreter": {
   "hash": "ec4f007d6c62ba27e72dc4eaede2153b380f92957ad692372108468a667c5304"
  },
  "kernelspec": {
   "display_name": "Python 3.7.6 64-bit ('base': conda)",
   "language": "python",
   "name": "python3"
  },
  "language_info": {
   "codemirror_mode": {
    "name": "ipython",
    "version": 3
   },
   "file_extension": ".py",
   "mimetype": "text/x-python",
   "name": "python",
   "nbconvert_exporter": "python",
   "pygments_lexer": "ipython3",
   "version": "3.7.6"
  },
  "orig_nbformat": 4
 },
 "nbformat": 4,
 "nbformat_minor": 2
}
