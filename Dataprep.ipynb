{
 "cells": [
  {
   "cell_type": "code",
   "execution_count": 1,
   "metadata": {},
   "outputs": [],
   "source": [
    "# The easiest way to prepare data in python \n",
    "# EDA\n",
    "\n",
    "# it comes with three different things\n",
    "#   1. Dataprep.Connector  .....Available\n",
    "#   2. Dataprep.EDA        .....Avaliable\n",
    "#   3. Dataprep.Clean      .....Avaliable\n",
    "#   4. Dataprep.Feature    .....In Future\n",
    "#   5. Dataprep.Integrate  .....In Future"
   ]
  },
  {
   "cell_type": "code",
   "execution_count": null,
   "metadata": {},
   "outputs": [],
   "source": [
    "dat"
   ]
  }
 ],
 "metadata": {
  "interpreter": {
   "hash": "ec4f007d6c62ba27e72dc4eaede2153b380f92957ad692372108468a667c5304"
  },
  "kernelspec": {
   "display_name": "Python 3.7.6 64-bit ('base': conda)",
   "name": "python3"
  },
  "language_info": {
   "codemirror_mode": {
    "name": "ipython",
    "version": 3
   },
   "file_extension": ".py",
   "mimetype": "text/x-python",
   "name": "python",
   "nbconvert_exporter": "python",
   "pygments_lexer": "ipython3",
   "version": "3.7.6"
  },
  "orig_nbformat": 4
 },
 "nbformat": 4,
 "nbformat_minor": 2
}
