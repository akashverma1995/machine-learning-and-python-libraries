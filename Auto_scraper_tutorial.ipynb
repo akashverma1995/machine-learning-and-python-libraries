{
 "cells": [
  {
   "cell_type": "code",
   "execution_count": 1,
   "metadata": {},
   "outputs": [
    {
     "name": "stdout",
     "output_type": "stream",
     "text": [
      "['Introduction', 'History', 'Statistical data', 'Methods', 'Misuse', 'Applications', 'Specialized disciplines', 'See also', 'References', 'Further reading', 'External links']\n"
     ]
    }
   ],
   "source": [
    "from autoscraper  import AutoScraper\n",
    "url='https://en.wikipedia.org/wiki/Statistics'\n",
    "wanted=['Introduction']\n",
    "scraper=AutoScraper()\n",
    "result=scraper.build(url,wanted)\n",
    "print(result) "
   ]
  },
  {
   "cell_type": "code",
   "execution_count": null,
   "metadata": {},
   "outputs": [],
   "source": [
    "# scaper.get_result-similar(url,grouped=True)\n",
    "# scaper.set_rule_aliases({'key1':'value1','key2':'value2'})\n",
    "# scraper.keep_rules(['key1','key2'])\n",
    "# scraper.save('name_related_to_your_work') "
   ]
  },
  {
   "cell_type": "code",
   "execution_count": null,
   "metadata": {},
   "outputs": [],
   "source": [
    "#scraper.load('name_related_to_your_work')\n",
    "#result=scraper.get_result-similar(url,grouped_by_alias=True)"
   ]
  }
 ],
 "metadata": {
  "interpreter": {
   "hash": "ec4f007d6c62ba27e72dc4eaede2153b380f92957ad692372108468a667c5304"
  },
  "kernelspec": {
   "display_name": "Python 3.7.6 64-bit ('base': conda)",
   "name": "python3"
  },
  "language_info": {
   "codemirror_mode": {
    "name": "ipython",
    "version": 3
   },
   "file_extension": ".py",
   "mimetype": "text/x-python",
   "name": "python",
   "nbconvert_exporter": "python",
   "pygments_lexer": "ipython3",
   "version": "3.7.6"
  },
  "orig_nbformat": 4
 },
 "nbformat": 4,
 "nbformat_minor": 2
}
